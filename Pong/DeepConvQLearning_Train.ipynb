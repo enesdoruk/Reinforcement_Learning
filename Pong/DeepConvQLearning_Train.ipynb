{
 "cells": [
  {
   "cell_type": "code",
   "execution_count": null,
   "metadata": {},
   "outputs": [],
   "source": [
    "import DeepConvQLearning_PongEnv\n",
    "import DeepConvQLearning_Agent\n",
    "import numpy as np\n",
    "import skimage as skimage\n",
    "import warnings\n",
    "warnings.filterwarnings(\"ignore\")"
   ]
  },
  {
   "cell_type": "code",
   "execution_count": 4,
   "metadata": {},
   "outputs": [],
   "source": [
    "\n",
    "TOTAL_TrainTime = 100000\n",
    "\n",
    "IMGHEIGHT = 40\n",
    "IMGWIDTH = 40\n",
    "IMGHISTORY = 4"
   ]
  },
  {
   "cell_type": "code",
   "execution_count": 5,
   "metadata": {},
   "outputs": [],
   "source": [
    "def ProcessGameImage(RawImage):\n",
    "    \n",
    "    GreyImage = skimage.color.rgb2gray(RawImage)\n",
    "    \n",
    "    CroppedImage = GreyImage[0:400,0:400]\n",
    "    \n",
    "    ReducedImage = skimage.transform.resize(CroppedImage,(IMGHEIGHT,IMGWIDTH))\n",
    "    \n",
    "    ReducedImage = skimage.exposure.rescale_intensity(ReducedImage, out_range = (0,255))\n",
    "    \n",
    "    ReducedImage = ReducedImage / 128\n",
    "    \n",
    "    return ReducedImage\n",
    "        "
   ]
  },
  {
   "cell_type": "code",
   "execution_count": 6,
   "metadata": {},
   "outputs": [],
   "source": [
    "def TrainExperiment():\n",
    "    \n",
    "    TrainHistory = []\n",
    "    \n",
    "    TheGame = DCQL_Pong.PongGame()\n",
    "    \n",
    "    TheGame.InitialDisplay()\n",
    "    \n",
    "    TheAgent = DCQL_Agent.Agent()\n",
    "    \n",
    "    BestAction = 0\n",
    "    \n",
    "    [InitialScore, InitialScreenImage] = TheGame.PlayNextMove(BestAction)\n",
    "    InitialGameImage = ProcessGameImage(InitialScreenImage)\n",
    "    \n",
    "    GameState = np.stack((InitialGameImage,InitialGameImage,InitialGameImage,InitialGameImage),axis = 2)\n",
    "    \n",
    "    GameState = GameState.reshape(1, GameState.shape[0],GameState.shape[1],GameState.shape[2])\n",
    "    \n",
    "    \n",
    "    for i in range(TOTAL_TrainTime):\n",
    "        \n",
    "        BestAction = TheAgent.FindBestAct(GameState)\n",
    "        [ReturnScore, NewScreenImage] = TheGame.PlayNextMove(BestAction)\n",
    "        \n",
    "        NewGameImage = ProcessGameImage(NewScreenImage)\n",
    "        \n",
    "        NewGameImage = NewGameImage.reshape(1,NewGameImage.shape[0],NewGameImage.shape[1],1)\n",
    "        \n",
    "        NextState = np.append(NewGameImage, GameState[:,:,:,:3], axis = 3)\n",
    "        \n",
    "        TheAgent.CaptureSample((GameState,BestAction,ReturnScore,NextState))\n",
    "        \n",
    "        TheAgent.Process()\n",
    "        \n",
    "        GameState = NextState\n",
    "        \n",
    "        if i % 250 == 0:\n",
    "            print(\"Train time: \",i, \" game score: \",TheGame.GScore)\n",
    "            TrainHistory.append(TheGame.GScore)\n",
    "            \n",
    "        \n"
   ]
  },
  {
   "cell_type": "code",
   "execution_count": null,
   "metadata": {},
   "outputs": [],
   "source": []
  }
 ],
 "metadata": {
  "kernelspec": {
   "display_name": "Python 3",
   "language": "python",
   "name": "python3"
  },
  "language_info": {
   "codemirror_mode": {
    "name": "ipython",
    "version": 3
   },
   "file_extension": ".py",
   "mimetype": "text/x-python",
   "name": "python",
   "nbconvert_exporter": "python",
   "pygments_lexer": "ipython3",
   "version": "3.7.4"
  }
 },
 "nbformat": 4,
 "nbformat_minor": 2
}
