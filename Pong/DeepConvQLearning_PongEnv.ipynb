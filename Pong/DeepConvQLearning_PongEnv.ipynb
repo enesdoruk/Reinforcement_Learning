{
 "cells": [
  {
   "cell_type": "code",
   "execution_count": 1,
   "metadata": {},
   "outputs": [
    {
     "name": "stdout",
     "output_type": "stream",
     "text": [
      "pygame 1.9.6\n",
      "Hello from the pygame community. https://www.pygame.org/contribute.html\n"
     ]
    }
   ],
   "source": [
    "import pygame\n",
    "import random \n"
   ]
  },
  {
   "cell_type": "code",
   "execution_count": 3,
   "metadata": {},
   "outputs": [],
   "source": [
    "FPS = 60\n",
    "\n",
    "WINDOW_WIDTH = 400\n",
    "WINDOW_HEIGHT = 420 \n",
    "GAME_HEIGHT = 400\n",
    "PADDLE_WIDTH = 15\n",
    "PADDLE_HEIGHT = 60\n",
    "PADDLE_BUFFER = 15\n",
    "BALL_WIDTH = 20\n",
    "BALL_HEIGHT = 20\n",
    "PADDLE_SPEED = 3\n",
    "BALL_X_SPEED = 2\n",
    "BALL_Y_SPEED = 2\n",
    "\n",
    "WHITE = (255, 255, 255)\n",
    "BLACK = (0, 0,0 )\n",
    "\n",
    "screen = pygame.display.set_mode((WINDOW_WIDTH, WINDOW_HEIGHT))"
   ]
  },
  {
   "cell_type": "code",
   "execution_count": 4,
   "metadata": {},
   "outputs": [],
   "source": [
    "def drawPaddle(switch, paddleYPos):\n",
    "    if switch == \"left\":\n",
    "        paddle = pygame.Rect(PADDLE_BUFFER, paddleYPos, PADDLE_WIDTH, PADDLE_HEIGHT)\n",
    "    elif switch == \"right\":\n",
    "        paddle = pygame.Rect(WINDOW_WIDTH - PADDLE_BUFFER - PADDLE_WIDTH, paddleYPos, PADDLE_WIDTH, PADDLE_HEIGHT)    \n",
    "    \n",
    "    pygame.draw.rect(screen, WHITE, paddle)\n",
    "    "
   ]
  },
  {
   "cell_type": "code",
   "execution_count": 5,
   "metadata": {},
   "outputs": [],
   "source": [
    "def drawball(ballXPos, ballYPos):\n",
    "    ball = pygame.Rect(ballXPos, ballYPos, BALL_WIDTH, BALL_HEIGHT)\n",
    "    pygame.draw.rect(screen, WHITE, ball)"
   ]
  },
  {
   "cell_type": "code",
   "execution_count": 6,
   "metadata": {},
   "outputs": [],
   "source": [
    "def updatePaddle(switch, action, paddleYPos, ballYPos):\n",
    "    dft = 7.5\n",
    "    \n",
    "    if switch == \"left\":\n",
    "        if action == 1:\n",
    "            paddleYPos = paddleYPos - PADDLE_SPEED*dft\n",
    "        if action == 2:\n",
    "            paddleYPos = paddleYPos + PADDLE_SPEED*dft\n",
    "        if paddleYPos < 0:\n",
    "            paddleYPos = 0\n",
    "        if paddleYPos > (GAME_HEIGHT -  PADDLE_HEIGHT):\n",
    "            paddleYPos = GAME_HEIGHT -  PADDLE_HEIGHT\n",
    "    \n",
    "    elif switch == \"right\":\n",
    "        if paddleYPos + PADDLE_HEIGHT/2 < ballYPos + BALL_HEIGHT/2:\n",
    "            paddleYPos = paddleYPos + PADDLE_SPEED*dft\n",
    "        if paddleYPos + PADDLE_HEIGHT/2 > ballYPos + BALL_HEIGHT/2:\n",
    "            paddleYPos = paddleYPos - PADDLE_SPEED*dft\n",
    "        if paddleYPos < 0:\n",
    "            paddleYPos = 0\n",
    "        if paddleYPos > (GAME_HEIGHT -  PADDLE_HEIGHT):\n",
    "            paddleYPos = GAME_HEIGHT -  PADDLE_HEIGHT\n",
    "    \n",
    "    return paddleYPos"
   ]
  },
  {
   "cell_type": "code",
   "execution_count": 7,
   "metadata": {},
   "outputs": [],
   "source": [
    "def updateBall(paddle1YPos, paddle2YPos, ballXPos, ballYPos, ballXDirection, ballYDirection, DeltaFrameTime):\n",
    "    dft = 7.5\n",
    "    \n",
    "    ballXPos = ballXPos + ballXDirection*BALL_X_SPEED*dft\n",
    "    ballYPos = ballYPos + ballYDirection*BALL_Y_SPEED*dft\n",
    "    \n",
    "    score = -0.5\n",
    "    \n",
    "    if (ballXPos <= (PADDLE_BUFFER + PADDLE_WIDTH)) and ((ballYPos + BALL_HEIGHT) >= paddle1YPos) and (ballYPos <= (paddle1YPos + PADDLE_HEIGHT )) and (ballXDirection == -1):\n",
    "        ballXDirection = 1 \n",
    "        score = 10\n",
    "    elif (ballXPos <= 0):\n",
    "        ballXDirection = 1\n",
    "        score = -10\n",
    "        return [score, ballXPos, ballYPos, ballXDirection, ballYDirection]\n",
    "    \n",
    "    if ((ballXPos >= (WINDOW_WIDTH - PADDLE_WIDTH - PADDLE_BUFFER)) and ((ballYPos + BALL_HEIGHT)>= paddle2YPos) and (ballYPos <= (paddle2YPos + PADDLE_HEIGHT)) and (ballXDirection == 1)):\n",
    "        \n",
    "        ballXDirection = -1\n",
    "    \n",
    "    elif(ballXPos >= WINDOW_WIDTH - BALL_WIDTH):\n",
    "        \n",
    "        ballXDirection = -1\n",
    "        \n",
    "        return [score, ballXPos,ballYPos, ballXDirection, ballYDirection]\n",
    "    \n",
    "    if ballYPos <= 0:\n",
    "        \n",
    "        ballYPos = 0\n",
    "        \n",
    "        ballYDirection = 1\n",
    "        \n",
    "    elif ballYPos >= GAME_HEIGHT - BALL_HEIGHT:\n",
    "        \n",
    "        ballYPos = GAME_HEIGHT - BALL_HEIGHT\n",
    "        \n",
    "        ballYDirection = -1\n",
    "        \n",
    "    return [score, ballXPos,ballYPos,ballXDirection,ballYDirection]\n",
    "        "
   ]
  },
  {
   "cell_type": "code",
   "execution_count": 8,
   "metadata": {},
   "outputs": [],
   "source": [
    "class PongGame:\n",
    "    \n",
    "    def __init__(self):\n",
    "        pygame.init()\n",
    "        pygame.display.set_caption(\"Pong Env\")\n",
    "        \n",
    "        self.paddle1YPos = GAME_HEIGHT/2 - PADDLE_HEIGHT/2\n",
    "        self.paddle2YPos = GAME_HEIGHT/2 - PADDLE_HEIGHT/2\n",
    "        \n",
    "        self.ballXPos = WINDOW_WIDTH/2\n",
    "        \n",
    "        self.clock = pygame.time.clock()\n",
    "        \n",
    "        self.GScore = 0.0\n",
    "        \n",
    "        self.ballXDirection = random.sample([-1, 1], 1)[0]\n",
    "        self.ballYDirection = random.sample([-1, 1], 1)[0]\n",
    "        \n",
    "        self.ballYPos = random.randint(0, 9)*(WINDOW_HEIGHT - BALL_HEIGHT)/9\n",
    "        \n",
    "    def initDisplay(self):\n",
    "        pygame.event.pump()\n",
    "        screen.fill(BLACK)\n",
    "        \n",
    "        drawPaddle(\"left\", self.paddle1YPos)\n",
    "        drawPaddle(\"right\", self.paddle2YPos)\n",
    "        \n",
    "        drawball(self.ballXPos, self.ballYPos)\n",
    "        \n",
    "        pygame.display.flip()\n",
    "    \n",
    "    def playNextMove(self, action):\n",
    "        DeltaFrameTime = self.clock.tick(FPS)\n",
    "        pygamen.event.pump()\n",
    "        score = 0\n",
    "        screen.fill(BLACK)\n",
    "        \n",
    "        self.paddle1YPos = updatePaddle(\"left\", action, self.paddle1YPos, self.ballYPos)\n",
    "        drawPaddle(\"left\" , self.paddle1YPos)\n",
    "        \n",
    "        self.paddle2YPos = updatePaddle(\"right\", action, self.paddle2YPos, self.ballYPos)\n",
    "        drawPaddle(\"right\" , self.paddle2YPos)\n",
    "        \n",
    "        [score, self.ballXPos, self.ballYPos, self.ballXDirection, self.ballYDirection] = updateBall(self.paddle1YPos, self,paddle2YPos, self.ballXPos, self.ballYPos, self.ballXDirection, self.ballYDirection, DeltaFrameTime)\n",
    "        \n",
    "        drawball(self.ballXPos, self.ballYPos)\n",
    "        \n",
    "        if score > 0.5 or score < -0.5:\n",
    "            self.GScore = self.GScore*0.9 + 0.1*score\n",
    "        \n",
    "        ScreenImage = pygame.surfarray.array3d(pygame.display.get_surface())\n",
    "        \n",
    "        pygame.display.flip()\n",
    "        \n",
    "        return [score, ScreenImage]"
   ]
  },
  {
   "cell_type": "code",
   "execution_count": null,
   "metadata": {},
   "outputs": [],
   "source": []
  }
 ],
 "metadata": {
  "kernelspec": {
   "display_name": "Python 3",
   "language": "python",
   "name": "python3"
  },
  "language_info": {
   "codemirror_mode": {
    "name": "ipython",
    "version": 3
   },
   "file_extension": ".py",
   "mimetype": "text/x-python",
   "name": "python",
   "nbconvert_exporter": "python",
   "pygments_lexer": "ipython3",
   "version": "3.7.4"
  }
 },
 "nbformat": 4,
 "nbformat_minor": 2
}
