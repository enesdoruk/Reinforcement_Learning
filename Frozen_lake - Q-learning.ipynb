{
 "cells": [
  {
   "cell_type": "code",
   "execution_count": 1,
   "metadata": {},
   "outputs": [],
   "source": [
    "import gym \n",
    "import numpy as np \n",
    "import matplotlib.pyplot as plt\n",
    "import random\n"
   ]
  },
  {
   "cell_type": "code",
   "execution_count": 3,
   "metadata": {},
   "outputs": [],
   "source": [
    "env = gym.make(\"FrozenLake-v0\")"
   ]
  },
  {
   "cell_type": "code",
   "execution_count": 11,
   "metadata": {},
   "outputs": [],
   "source": [
    "# Q table\n",
    "\n",
    "q_table = np.zeros([env.observation_space.n, env.action_space.n ]) # state, action"
   ]
  },
  {
   "cell_type": "code",
   "execution_count": 12,
   "metadata": {},
   "outputs": [],
   "source": [
    "# hyperparameter\n",
    "\n",
    "alpha = 0.1\n",
    "gamma = 0.9\n",
    "epsilon = 0.1"
   ]
  },
  {
   "cell_type": "code",
   "execution_count": 13,
   "metadata": {},
   "outputs": [],
   "source": [
    "# plotting matrix\n",
    "\n",
    "reward_list = []\n",
    "    "
   ]
  },
  {
   "cell_type": "code",
   "execution_count": 16,
   "metadata": {},
   "outputs": [
    {
     "name": "stdout",
     "output_type": "stream",
     "text": [
      "episode: 10, reward: 0.0\n",
      "episode: 20, reward: 0.0\n",
      "episode: 30, reward: 0.0\n",
      "episode: 40, reward: 0.0\n",
      "episode: 50, reward: 0.0\n",
      "episode: 60, reward: 0.0\n",
      "episode: 70, reward: 0.0\n",
      "episode: 80, reward: 0.0\n",
      "episode: 90, reward: 0.0\n",
      "episode: 100, reward: 0.0\n",
      "episode: 110, reward: 0.0\n",
      "episode: 120, reward: 0.0\n",
      "episode: 130, reward: 0.0\n",
      "episode: 140, reward: 0.0\n",
      "episode: 150, reward: 0.0\n",
      "episode: 160, reward: 0.0\n",
      "episode: 170, reward: 0.0\n",
      "episode: 180, reward: 0.0\n",
      "episode: 190, reward: 0.0\n",
      "episode: 200, reward: 0.0\n",
      "episode: 210, reward: 0.0\n",
      "episode: 220, reward: 0.0\n",
      "episode: 230, reward: 0.0\n",
      "episode: 240, reward: 0.0\n",
      "episode: 250, reward: 0.0\n",
      "episode: 260, reward: 0.0\n",
      "episode: 270, reward: 0.0\n",
      "episode: 280, reward: 0.0\n",
      "episode: 290, reward: 0.0\n",
      "episode: 300, reward: 0.0\n",
      "episode: 310, reward: 0.0\n",
      "episode: 320, reward: 0.0\n",
      "episode: 330, reward: 0.0\n",
      "episode: 340, reward: 0.0\n",
      "episode: 350, reward: 0.0\n",
      "episode: 360, reward: 0.0\n",
      "episode: 370, reward: 0.0\n",
      "episode: 380, reward: 0.0\n",
      "episode: 390, reward: 0.0\n",
      "episode: 400, reward: 0.0\n",
      "episode: 410, reward: 0.0\n",
      "episode: 420, reward: 0.0\n",
      "episode: 430, reward: 0.0\n",
      "episode: 440, reward: 0.0\n",
      "episode: 450, reward: 0.0\n",
      "episode: 460, reward: 0.0\n",
      "episode: 470, reward: 0.0\n",
      "episode: 480, reward: 0.0\n",
      "episode: 490, reward: 0.0\n",
      "episode: 500, reward: 0.0\n",
      "episode: 510, reward: 0.0\n",
      "episode: 520, reward: 0.0\n",
      "episode: 530, reward: 0.0\n",
      "episode: 540, reward: 0.0\n",
      "episode: 550, reward: 0.0\n",
      "episode: 560, reward: 0.0\n",
      "episode: 570, reward: 0.0\n",
      "episode: 580, reward: 0.0\n",
      "episode: 590, reward: 0.0\n",
      "episode: 600, reward: 0.0\n",
      "episode: 610, reward: 0.0\n",
      "episode: 620, reward: 0.0\n",
      "episode: 630, reward: 0.0\n",
      "episode: 640, reward: 0.0\n",
      "episode: 650, reward: 0.0\n",
      "episode: 660, reward: 0.0\n",
      "episode: 670, reward: 0.0\n",
      "episode: 680, reward: 0.0\n",
      "episode: 690, reward: 0.0\n",
      "episode: 700, reward: 0.0\n",
      "episode: 710, reward: 0.0\n",
      "episode: 720, reward: 0.0\n",
      "episode: 730, reward: 0.0\n",
      "episode: 740, reward: 0.0\n",
      "episode: 750, reward: 0.0\n",
      "episode: 760, reward: 0.0\n",
      "episode: 770, reward: 0.0\n",
      "episode: 780, reward: 0.0\n",
      "episode: 790, reward: 0.0\n",
      "episode: 800, reward: 0.0\n",
      "episode: 810, reward: 0.0\n",
      "episode: 820, reward: 0.0\n",
      "episode: 830, reward: 0.0\n",
      "episode: 840, reward: 0.0\n",
      "episode: 850, reward: 0.0\n",
      "episode: 860, reward: 0.0\n",
      "episode: 870, reward: 0.0\n",
      "episode: 880, reward: 0.0\n",
      "episode: 890, reward: 0.0\n",
      "episode: 900, reward: 0.0\n",
      "episode: 910, reward: 0.0\n",
      "episode: 920, reward: 0.0\n",
      "episode: 930, reward: 0.0\n",
      "episode: 940, reward: 0.0\n",
      "episode: 950, reward: 0.0\n",
      "episode: 960, reward: 0.0\n",
      "episode: 970, reward: 0.0\n",
      "episode: 980, reward: 0.0\n",
      "episode: 990, reward: 0.0\n"
     ]
    }
   ],
   "source": [
    "episode_number = 1000\n",
    "for i in range(1, episode_number):\n",
    "    \n",
    "    state = env.reset()\n",
    "    reward_count = 0\n",
    "    \n",
    "    while True:\n",
    "        \n",
    "        #exploit explore process \n",
    "        if random.uniform(0,1) < epsilon:\n",
    "            action = env.action_space.sample()\n",
    "        else:\n",
    "            action = np.argmax(q_table[state])\n",
    "        \n",
    "        #action process and result observtion\n",
    "        next_state, reward, done, _ = env.step(action)\n",
    "        \n",
    "        # Q learning func\n",
    "        old_value = q_table[state, action]\n",
    "        next_max = np.max(q_table[next_state])\n",
    "        \n",
    "        next_value = (1-alpha) * old_value + alpha * (reward + gamma * next_max)\n",
    "        \n",
    "        #update q table\n",
    "        q_table[state, action] = next_value\n",
    "        \n",
    "        #update state\n",
    "        state = next_state\n",
    "        \n",
    "       \n",
    "        reward_count += reward\n",
    "\n",
    "        \n",
    "        if done: \n",
    "            break\n",
    "            \n",
    "    \n",
    "    if i % 10 == 0:\n",
    "        reward_list.append(reward_count)\n",
    "        print(\"episode: {}, reward: {}\".format(i, reward_count))\n",
    "            "
   ]
  },
  {
   "cell_type": "code",
   "execution_count": 15,
   "metadata": {},
   "outputs": [
    {
     "data": {
      "text/plain": [
       "[<matplotlib.lines.Line2D at 0x22253faf7c8>]"
      ]
     },
     "execution_count": 15,
     "metadata": {},
     "output_type": "execute_result"
    },
    {
     "data": {
      "image/png": "[encoded data removed]",
      "text/plain": [
       "<Figure size 432x288 with 1 Axes>"
      ]
     },
     "metadata": {
      "needs_background": "light"
     },
     "output_type": "display_data"
    }
   ],
   "source": [
    "plt.plot(reward_list)"
   ]
  },
  {
   "cell_type": "code",
   "execution_count": null,
   "metadata": {},
   "outputs": [],
   "source": []
  }
 ],
 "metadata": {
  "kernelspec": {
   "display_name": "Python 3",
   "language": "python",
   "name": "python3"
  },
  "language_info": {
   "codemirror_mode": {
    "name": "ipython",
    "version": 3
   },
   "file_extension": ".py",
   "mimetype": "text/x-python",
   "name": "python",
   "nbconvert_exporter": "python",
   "pygments_lexer": "ipython3",
   "version": "3.7.4"
  }
 },
 "nbformat": 4,
 "nbformat_minor": 2
}
