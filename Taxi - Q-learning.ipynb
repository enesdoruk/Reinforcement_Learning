{
 "cells": [
  {
   "cell_type": "code",
   "execution_count": 1,
   "metadata": {},
   "outputs": [],
   "source": [
    "import gym \n",
    "import numpy as np \n",
    "import matplotlib.pyplot as plt\n",
    "import random\n"
   ]
  },
  {
   "cell_type": "code",
   "execution_count": 2,
   "metadata": {},
   "outputs": [],
   "source": [
    "env = gym.make(\"Taxi-v3\")"
   ]
  },
  {
   "cell_type": "code",
   "execution_count": 3,
   "metadata": {},
   "outputs": [],
   "source": [
    "# Q table\n",
    "\n",
    "q_table = np.zeros([env.observation_space.n, env.action_space.n ]) # state, action"
   ]
  },
  {
   "cell_type": "code",
   "execution_count": 4,
   "metadata": {},
   "outputs": [
    {
     "data": {
      "text/plain": [
       "array([[0., 0., 0., 0., 0., 0.],\n",
       "       [0., 0., 0., 0., 0., 0.],\n",
       "       [0., 0., 0., 0., 0., 0.],\n",
       "       ...,\n",
       "       [0., 0., 0., 0., 0., 0.],\n",
       "       [0., 0., 0., 0., 0., 0.],\n",
       "       [0., 0., 0., 0., 0., 0.]])"
      ]
     },
     "execution_count": 4,
     "metadata": {},
     "output_type": "execute_result"
    }
   ],
   "source": [
    "q_table"
   ]
  },
  {
   "cell_type": "code",
   "execution_count": 5,
   "metadata": {},
   "outputs": [],
   "source": [
    "# hyperparameter\n",
    "\n",
    "alpha = 0.1\n",
    "gamma = 0.9\n",
    "epsilon = 0.1\n"
   ]
  },
  {
   "cell_type": "code",
   "execution_count": 6,
   "metadata": {},
   "outputs": [],
   "source": [
    "# plotting matrix\n",
    "\n",
    "reward_list = []\n",
    "dropouts_list = []\n"
   ]
  },
  {
   "cell_type": "code",
   "execution_count": 8,
   "metadata": {},
   "outputs": [
    {
     "name": "stdout",
     "output_type": "stream",
     "text": [
      "episode: 10, reward: -208, wrong dropout: 1\n",
      "episode: 20, reward: -114, wrong dropout: 5\n",
      "episode: 30, reward: -131, wrong dropout: 4\n",
      "episode: 40, reward: -102, wrong dropout: 4\n",
      "episode: 50, reward: -42, wrong dropout: 2\n",
      "episode: 60, reward: -334, wrong dropout: 15\n",
      "episode: 70, reward: -182, wrong dropout: 6\n",
      "episode: 80, reward: -262, wrong dropout: 7\n",
      "episode: 90, reward: -172, wrong dropout: 3\n",
      "episode: 100, reward: -280, wrong dropout: 9\n",
      "episode: 110, reward: -325, wrong dropout: 14\n",
      "episode: 120, reward: -253, wrong dropout: 6\n",
      "episode: 130, reward: -291, wrong dropout: 14\n",
      "episode: 140, reward: -114, wrong dropout: 4\n",
      "episode: 150, reward: -262, wrong dropout: 7\n",
      "episode: 160, reward: -37, wrong dropout: 0\n",
      "episode: 170, reward: -130, wrong dropout: 4\n",
      "episode: 180, reward: -194, wrong dropout: 7\n",
      "episode: 190, reward: -159, wrong dropout: 3\n",
      "episode: 200, reward: -214, wrong dropout: 9\n",
      "episode: 210, reward: -161, wrong dropout: 2\n",
      "episode: 220, reward: -211, wrong dropout: 6\n",
      "episode: 230, reward: -137, wrong dropout: 3\n",
      "episode: 240, reward: -271, wrong dropout: 9\n",
      "episode: 250, reward: -20, wrong dropout: 0\n",
      "episode: 260, reward: -260, wrong dropout: 9\n",
      "episode: 270, reward: -110, wrong dropout: 3\n",
      "episode: 280, reward: -57, wrong dropout: 1\n",
      "episode: 290, reward: -14, wrong dropout: 0\n",
      "episode: 300, reward: -77, wrong dropout: 4\n",
      "episode: 310, reward: -234, wrong dropout: 8\n",
      "episode: 320, reward: -62, wrong dropout: 2\n",
      "episode: 330, reward: -123, wrong dropout: 2\n",
      "episode: 340, reward: -67, wrong dropout: 1\n",
      "episode: 350, reward: -148, wrong dropout: 3\n",
      "episode: 360, reward: -191, wrong dropout: 4\n",
      "episode: 370, reward: -179, wrong dropout: 3\n",
      "episode: 380, reward: -230, wrong dropout: 7\n",
      "episode: 390, reward: -104, wrong dropout: 4\n",
      "episode: 400, reward: -83, wrong dropout: 1\n",
      "episode: 410, reward: -42, wrong dropout: 1\n",
      "episode: 420, reward: -111, wrong dropout: 4\n",
      "episode: 430, reward: -30, wrong dropout: 0\n",
      "episode: 440, reward: -110, wrong dropout: 4\n",
      "episode: 450, reward: -179, wrong dropout: 8\n",
      "episode: 460, reward: -35, wrong dropout: 1\n",
      "episode: 470, reward: -24, wrong dropout: 1\n",
      "episode: 480, reward: -28, wrong dropout: 1\n",
      "episode: 490, reward: -32, wrong dropout: 1\n",
      "episode: 500, reward: -91, wrong dropout: 2\n",
      "episode: 510, reward: -195, wrong dropout: 4\n",
      "episode: 520, reward: -167, wrong dropout: 7\n",
      "episode: 530, reward: -113, wrong dropout: 3\n",
      "episode: 540, reward: -167, wrong dropout: 5\n",
      "episode: 550, reward: -47, wrong dropout: 2\n",
      "episode: 560, reward: -22, wrong dropout: 0\n",
      "episode: 570, reward: -16, wrong dropout: 0\n",
      "episode: 580, reward: -19, wrong dropout: 0\n",
      "episode: 590, reward: -56, wrong dropout: 1\n",
      "episode: 600, reward: -22, wrong dropout: 1\n",
      "episode: 610, reward: -113, wrong dropout: 5\n",
      "episode: 620, reward: -17, wrong dropout: 0\n",
      "episode: 630, reward: -87, wrong dropout: 3\n",
      "episode: 640, reward: -45, wrong dropout: 1\n",
      "episode: 650, reward: -63, wrong dropout: 1\n",
      "episode: 660, reward: -33, wrong dropout: 1\n",
      "episode: 670, reward: -82, wrong dropout: 3\n",
      "episode: 680, reward: -42, wrong dropout: 2\n",
      "episode: 690, reward: -29, wrong dropout: 1\n",
      "episode: 700, reward: -109, wrong dropout: 3\n",
      "episode: 710, reward: -46, wrong dropout: 0\n",
      "episode: 720, reward: -28, wrong dropout: 0\n",
      "episode: 730, reward: -15, wrong dropout: 0\n",
      "episode: 740, reward: -16, wrong dropout: 0\n",
      "episode: 750, reward: -24, wrong dropout: 0\n",
      "episode: 760, reward: -10, wrong dropout: 0\n",
      "episode: 770, reward: -12, wrong dropout: 0\n",
      "episode: 780, reward: -52, wrong dropout: 0\n",
      "episode: 790, reward: -51, wrong dropout: 1\n",
      "episode: 800, reward: -19, wrong dropout: 0\n",
      "episode: 810, reward: -111, wrong dropout: 2\n",
      "episode: 820, reward: -98, wrong dropout: 3\n",
      "episode: 830, reward: -19, wrong dropout: 0\n",
      "episode: 840, reward: -33, wrong dropout: 0\n",
      "episode: 850, reward: -51, wrong dropout: 1\n",
      "episode: 860, reward: -21, wrong dropout: 1\n",
      "episode: 870, reward: -18, wrong dropout: 1\n",
      "episode: 880, reward: -26, wrong dropout: 1\n",
      "episode: 890, reward: -9, wrong dropout: 0\n",
      "episode: 900, reward: -21, wrong dropout: 1\n",
      "episode: 910, reward: -23, wrong dropout: 1\n",
      "episode: 920, reward: -24, wrong dropout: 0\n",
      "episode: 930, reward: -29, wrong dropout: 0\n",
      "episode: 940, reward: -11, wrong dropout: 0\n",
      "episode: 950, reward: -39, wrong dropout: 1\n",
      "episode: 960, reward: -26, wrong dropout: 1\n",
      "episode: 970, reward: -10, wrong dropout: 0\n",
      "episode: 980, reward: -21, wrong dropout: 1\n",
      "episode: 990, reward: -39, wrong dropout: 2\n"
     ]
    }
   ],
   "source": [
    "episode_number = 1000\n",
    "for i in range(1, episode_number):\n",
    "    \n",
    "    state = env.reset()\n",
    "    reward_count = 0\n",
    "    dropouts = 0\n",
    "    \n",
    "    while True:\n",
    "        \n",
    "        #exploit explore process \n",
    "        if random.uniform(0,1) < epsilon:\n",
    "            action = env.action_space.sample()\n",
    "        else:\n",
    "            action = np.argmax(q_table[state])\n",
    "        \n",
    "        #action process and result observtion\n",
    "        next_state, reward, done, _ = env.step(action)\n",
    "        \n",
    "        # Q learning func\n",
    "        old_value = q_table[state, action]\n",
    "        next_max = np.max(q_table[next_state])\n",
    "        \n",
    "        next_value = (1-alpha) * old_value + alpha * (reward + gamma * next_max)\n",
    "        \n",
    "        #update q table\n",
    "        q_table[state, action] = next_value\n",
    "        \n",
    "        #update state\n",
    "        state = next_state\n",
    "        \n",
    "        if reward == -10: #characteristic number\n",
    "            dropouts += 1\n",
    "            \n",
    "        if done: \n",
    "            break\n",
    "            \n",
    "        reward_count += reward\n",
    "\n",
    "    \n",
    "    if i % 10 == 0:\n",
    "        dropouts_list.append(dropouts)\n",
    "        reward_list.append(reward_count)\n",
    "        print(\"episode: {}, reward: {}, wrong dropout: {}\".format(i, reward_count, dropouts))\n",
    "            "
   ]
  },
  {
   "cell_type": "code",
   "execution_count": 9,
   "metadata": {},
   "outputs": [
    {
     "data": {
      "image/png": "[encoded data removed]",
      "text/plain": [
       "<Figure size 432x288 with 2 Axes>"
      ]
     },
     "metadata": {
      "needs_background": "light"
     },
     "output_type": "display_data"
    }
   ],
   "source": [
    "#visualize \n",
    "\n",
    "fig, axs = plt.subplots(1,2)\n",
    "axs[0].plot(reward_list)\n",
    "axs[0].set_xlabel(\"episode\")\n",
    "axs[0].set_ylabel(\"reward\")\n",
    "\n",
    "axs[1].plot(dropouts_list)\n",
    "axs[0].set_xlabel(\"episode\")\n",
    "axs[0].set_ylabel(\"dropouts\")\n",
    "\n",
    "axs[0].grid(True)\n",
    "axs[1].grid(True)\n",
    "\n",
    "plt.show()"
   ]
  },
  {
   "cell_type": "code",
   "execution_count": null,
   "metadata": {},
   "outputs": [],
   "source": []
  }
 ],
 "metadata": {
  "kernelspec": {
   "display_name": "Python 3",
   "language": "python",
   "name": "python3"
  },
  "language_info": {
   "codemirror_mode": {
    "name": "ipython",
    "version": 3
   },
   "file_extension": ".py",
   "mimetype": "text/x-python",
   "name": "python",
   "nbconvert_exporter": "python",
   "pygments_lexer": "ipython3",
   "version": "3.7.4"
  }
 },
 "nbformat": 4,
 "nbformat_minor": 2
}
