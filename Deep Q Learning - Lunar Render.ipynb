{
 "cells": [
  {
   "cell_type": "code",
   "execution_count": 1,
   "metadata": {},
   "outputs": [],
   "source": [
    "import gym, random\n",
    "from keras.models import Sequential\n",
    "from keras.layers import Dense\n",
    "from keras.optimizers import Adam\n",
    "import numpy as np\n",
    "from collections import deque"
   ]
  },
  {
   "cell_type": "code",
   "execution_count": 2,
   "metadata": {},
   "outputs": [],
   "source": [
    "class DQLAgent:\n",
    "    def __init__(self, env):\n",
    "        self.state_size = env.observation_space.shape[0]\n",
    "        self.action_size = env.action_space.n\n",
    "        self.epsilon = 1\n",
    "        self.epsilon_min = 0.01\n",
    "        self.epsilon_decay = 0.9993\n",
    "        self.gamma = 0.99\n",
    "        self.learning_rate = 0.0001\n",
    "        self.memory = deque(maxlen=4000)\n",
    "        self.model = self.build_model()\n",
    "        self.target_model = self.build_model()\n",
    "\n",
    "    def build_model(self):\n",
    "        model = Sequential()\n",
    "        model.add(Dense(64, input_dim=self.state_size, activation='relu'))\n",
    "        model.add(Dense(64, activation='relu'))\n",
    "        model.add(Dense(self.action_size, activation='linear'))\n",
    "        model.compile(loss='mse', optimizer=Adam(lr=self.learning_rate))\n",
    "        return model\n",
    "\n",
    "    def remember(self, state, action, reward, next_state, done):\n",
    "        self.memory.append((state, action, reward, next_state, done))\n",
    "\n",
    "    def act(self, s):\n",
    "        if np.random.rand() <= self.epsilon:\n",
    "            return np.random.choice(self.action_size)\n",
    "        act_values = self.model.predict(s)\n",
    "        return np.argmax(act_values[0])\n",
    "\n",
    "    def replay(self,batch_size):\n",
    "        if len(agent.memory) < batch_size:\n",
    "            return\n",
    "        # Vectorized method for experience replay\n",
    "        minibatch = random.sample(self.memory, batch_size)\n",
    "        minibatch = np.array(minibatch)\n",
    "        not_done_indices = np.where(minibatch[:, 4] == False)\n",
    "        y = np.copy(minibatch[:, 2])\n",
    "\n",
    "        # If minibatch contains any non-terminal states, use separate update rule for those states\n",
    "        if len(not_done_indices[0]) > 0:\n",
    "            predict_sprime = self.model.predict(np.vstack(minibatch[:, 3]))\n",
    "            predict_sprime_target = self.target_model.predict(np.vstack(minibatch[:, 3]))\n",
    "            \n",
    "            # Non-terminal update rule\n",
    "            y[not_done_indices] += np.multiply(self.gamma, predict_sprime_target[not_done_indices, np.argmax(predict_sprime[not_done_indices, :][0], axis=1)][0])\n",
    "\n",
    "        actions = np.array(minibatch[:, 1], dtype=int)\n",
    "        y_target = self.model.predict(np.vstack(minibatch[:, 0]))\n",
    "        y_target[range(batch_size), actions] = y\n",
    "        self.model.fit(np.vstack(minibatch[:, 0]), y_target, epochs=1, verbose=0)\n",
    "        \n",
    "\n",
    "            \n",
    "    def adaptiveEGreedy(self):\n",
    "        if self.epsilon > self.epsilon_min:\n",
    "            self.epsilon *= self.epsilon_decay\n",
    "    \n",
    "    def targetModelUpdate(self):\n",
    "        self.target_model.set_weights(self.model.get_weights())"
   ]
  },
  {
   "cell_type": "code",
   "execution_count": 3,
   "metadata": {},
   "outputs": [
    {
     "name": "stdout",
     "output_type": "stream",
     "text": [
      "Episode: 0, Reward: -127.71295867952796\n",
      "Episode: 1, Reward: -66.91535991364836\n",
      "Episode: 2, Reward: -110.94401976682241\n",
      "Episode: 3, Reward: -392.02168735939006\n",
      "Episode: 4, Reward: -237.73473841712183\n",
      "Episode: 5, Reward: -420.5529727412895\n",
      "Episode: 6, Reward: -129.85329568877597\n",
      "Episode: 7, Reward: -131.47095858148202\n",
      "Episode: 8, Reward: -263.33819285634644\n",
      "Episode: 9, Reward: -218.04923334468717\n"
     ]
    }
   ],
   "source": [
    "if __name__ == \"__main__\":\n",
    "    env = gym.make('LunarLander-v2')\n",
    "\n",
    "    agent = DQLAgent(env)\n",
    "    state_number = env.observation_space.shape[0]\n",
    "    \n",
    "    batch_size = 32\n",
    "    episodes = 10\n",
    "    for e in range(episodes):\n",
    "        \n",
    "        state = env.reset()\n",
    "        state = np.reshape(state, [1, state_number])\n",
    "\n",
    "        total_reward = 0\n",
    "        for time in range(1000):\n",
    "            \n",
    "            action = agent.act(state)\n",
    "            \n",
    "            next_state, reward, done, _ = env.step(action)\n",
    "            next_state = np.reshape(next_state, [1, state_number])\n",
    "\n",
    "            agent.remember(state, action, reward, next_state, done)\n",
    "\n",
    "            state = next_state\n",
    "\n",
    "            agent.replay(batch_size)\n",
    "\n",
    "            total_reward += reward\n",
    "            \n",
    "            if done:\n",
    "                agent.targetModelUpdate()\n",
    "                break\n",
    "\n",
    "        agent.adaptiveEGreedy()\n",
    "\n",
    "        print('Episode: {}, Reward: {}'.format(e,total_reward))     \n",
    "    \n"
   ]
  },
  {
   "cell_type": "code",
   "execution_count": 4,
   "metadata": {},
   "outputs": [
    {
     "name": "stdout",
     "output_type": "stream",
     "text": [
      "Done\n"
     ]
    }
   ],
   "source": [
    "import time\n",
    "trained_model = agent\n",
    "state = env.reset()\n",
    "state = np.reshape(state, [1, env.observation_space.shape[0]])\n",
    "while True:\n",
    "    env.render()\n",
    "    action = trained_model.act(state)\n",
    "    next_state, reward, done, _ = env.step(action)\n",
    "    next_state = np.reshape(next_state, [1,env.observation_space.shape[0]])\n",
    "    state = next_state\n",
    "\n",
    "    if done:\n",
    "        break\n",
    "print(\"Done\")    "
   ]
  },
  {
   "cell_type": "code",
   "execution_count": null,
   "metadata": {},
   "outputs": [],
   "source": []
  }
 ],
 "metadata": {
  "kernelspec": {
   "display_name": "Python 3",
   "language": "python",
   "name": "python3"
  },
  "language_info": {
   "codemirror_mode": {
    "name": "ipython",
    "version": 3
   },
   "file_extension": ".py",
   "mimetype": "text/x-python",
   "name": "python",
   "nbconvert_exporter": "python",
   "pygments_lexer": "ipython3",
   "version": "3.7.4"
  }
 },
 "nbformat": 4,
 "nbformat_minor": 2
}
