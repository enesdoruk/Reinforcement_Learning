{
 "cells": [
  {
   "cell_type": "code",
   "execution_count": 1,
   "metadata": {},
   "outputs": [],
   "source": [
    "import numpy as np\n",
    "import gym\n",
    "from collections import deque\n",
    "from keras.models import Sequential\n",
    "from keras.layers import Dense\n",
    "from keras.optimizers import Adam\n",
    "import random\n",
    "import time"
   ]
  },
  {
   "cell_type": "code",
   "execution_count": 2,
   "metadata": {},
   "outputs": [],
   "source": [
    "class DQLAgent:\n",
    "    def __init__(self, env):\n",
    "        \n",
    "        self.state_size = env.observation_space.shape[0]\n",
    "        self.action_size = env.action_space.n\n",
    "        \n",
    "        self.gamma = 0.95\n",
    "        self.learning_rate = 0.001\n",
    "        \n",
    "        self.epsilon = 1\n",
    "        self.epsilon_decay = 0.995\n",
    "        self.epsilon_min = 0.01\n",
    "        \n",
    "        self.memory = deque(maxlen = 1000)\n",
    "        self.model = self.build_model()\n",
    "        \n",
    "    def adaptiveEGreedy(self): \n",
    "        #exploration and axplotation\n",
    "        if self.epsilon > self.epsilon_min:\n",
    "            self.epsilon *= self.epsilon_decay\n",
    "    \n",
    "    def remember(self, state, action, reward, next_state, done):\n",
    "        #storage\n",
    "        self.memory.append((state, action, reward, next_state, done))\n",
    "    \n",
    "    def build_model(self):\n",
    "        model = Sequential()\n",
    "        model.add(Dense(48, input_dim= self.state_size, activation= \"tanh\"))\n",
    "        model.add(Dense(self.action_size, activation= \"linear\"))\n",
    "        model.compile(loss= \"mse\", optimizer = Adam(lr= self.learning_rate))\n",
    "        return model\n",
    "    \n",
    "    def act(self, state):\n",
    "        #action as exploration or explotation\n",
    "        \n",
    "        if random.uniform(0,1) <= self.epsilon:\n",
    "            return env.action_space.sample()\n",
    "        else:\n",
    "            act_values = self.model.predict(state)\n",
    "            return np.argmax(act_values[0])\n",
    "    \n",
    "    def replay(self, batch_size):\n",
    "        #training step\n",
    "        \n",
    "        if len(self.memory) < batch_size:\n",
    "            return\n",
    "        \n",
    "        minibatch = random.sample(self.memory, batch_size)\n",
    "        \n",
    "        for state, action, reward, next_state, done in minibatch:\n",
    "            if done:\n",
    "                target = reward\n",
    "            else:\n",
    "                target = reward + self.gamma* np.amax(self.model.predict(next_state)[0])\n",
    "            \n",
    "            train_target = self.model.predict(state)\n",
    "            train_target[0][action] = target\n",
    "            self.model.fit(state, train_target, verbose = 0)\n",
    "            \n",
    "        \n",
    "        "
   ]
  },
  {
   "cell_type": "code",
   "execution_count": 3,
   "metadata": {},
   "outputs": [
    {
     "name": "stdout",
     "output_type": "stream",
     "text": [
      "Episodes: 0, time: 27\n",
      "Episodes: 1, time: 15\n",
      "Episodes: 2, time: 16\n",
      "Episodes: 3, time: 23\n",
      "Episodes: 4, time: 13\n",
      "Episodes: 5, time: 14\n",
      "Episodes: 6, time: 33\n",
      "Episodes: 7, time: 18\n",
      "Episodes: 8, time: 41\n",
      "Episodes: 9, time: 47\n"
     ]
    }
   ],
   "source": [
    "if __name__ == \"__main__\":\n",
    "    \n",
    "    env = gym.make(\"CartPole-v1\")\n",
    "    agent = DQLAgent(env)\n",
    "    \n",
    "    batch_size = 16\n",
    "    episodes = 10\n",
    "    \n",
    "    for e in range(episodes):\n",
    "        state = env.reset()\n",
    "        state = np.reshape(state, [1,4])\n",
    "        \n",
    "        time = 0\n",
    "        \n",
    "        while True:\n",
    "            action = agent.act(state)\n",
    "            next_state, reward, done, _ = env.step(action)\n",
    "            next_state = np.reshape(next_state, [1,4])\n",
    "            agent.remember(state, action, reward, next_state, done)\n",
    "            state = next_state\n",
    "            agent.replay(batch_size)\n",
    "            agent.adaptiveEGreedy()\n",
    "            \n",
    "            time += 1\n",
    "            \n",
    "            if done:\n",
    "                print(\"Episodes: {}, time: {}\".format(e ,time))\n",
    "                break"
   ]
  },
  {
   "cell_type": "code",
   "execution_count": 1,
   "metadata": {},
   "outputs": [
    {
     "ename": "NameError",
     "evalue": "name 'agent' is not defined",
     "output_type": "error",
     "traceback": [
      "\u001b[1;31m---------------------------------------------------------------------------\u001b[0m",
      "\u001b[1;31mNameError\u001b[0m                                 Traceback (most recent call last)",
      "\u001b[1;32m<ipython-input-1-3dcabd165225>\u001b[0m in \u001b[0;36m<module>\u001b[1;34m\u001b[0m\n\u001b[0;32m      1\u001b[0m \u001b[1;32mimport\u001b[0m \u001b[0mtime\u001b[0m\u001b[1;33m\u001b[0m\u001b[1;33m\u001b[0m\u001b[0m\n\u001b[1;32m----> 2\u001b[1;33m \u001b[0mtrained_model\u001b[0m \u001b[1;33m=\u001b[0m \u001b[0magent\u001b[0m\u001b[1;33m\u001b[0m\u001b[1;33m\u001b[0m\u001b[0m\n\u001b[0m\u001b[0;32m      3\u001b[0m \u001b[0mstate\u001b[0m \u001b[1;33m=\u001b[0m \u001b[0menv\u001b[0m\u001b[1;33m.\u001b[0m\u001b[0mreset\u001b[0m\u001b[1;33m(\u001b[0m\u001b[1;33m)\u001b[0m\u001b[1;33m\u001b[0m\u001b[1;33m\u001b[0m\u001b[0m\n\u001b[0;32m      4\u001b[0m \u001b[0mstate\u001b[0m \u001b[1;33m=\u001b[0m \u001b[0mnp\u001b[0m\u001b[1;33m.\u001b[0m\u001b[0mreshape\u001b[0m\u001b[1;33m(\u001b[0m\u001b[0mstate\u001b[0m\u001b[1;33m,\u001b[0m \u001b[1;33m[\u001b[0m\u001b[1;36m1\u001b[0m\u001b[1;33m,\u001b[0m\u001b[1;36m4\u001b[0m\u001b[1;33m]\u001b[0m\u001b[1;33m)\u001b[0m\u001b[1;33m\u001b[0m\u001b[1;33m\u001b[0m\u001b[0m\n\u001b[0;32m      5\u001b[0m \u001b[0mtime_t\u001b[0m \u001b[1;33m=\u001b[0m \u001b[1;36m0\u001b[0m\u001b[1;33m\u001b[0m\u001b[1;33m\u001b[0m\u001b[0m\n",
      "\u001b[1;31mNameError\u001b[0m: name 'agent' is not defined"
     ]
    }
   ],
   "source": [
    "import time\n",
    "trained_model = agent\n",
    "state = env.reset()\n",
    "state = np.reshape(state, [1,4])\n",
    "time_t = 0\n",
    "\n",
    "while True:\n",
    "    env.render()\n",
    "    action = trained_model.act(state)\n",
    "    next_state, reward, done, _ = env.step(action)\n",
    "    next_state = np.reshape(next_state, [1,4])\n",
    "    state = next_state\n",
    "    time_t += 1\n",
    "    print(time_t)\n",
    "    \n",
    "    if done:\n",
    "        break\n",
    "prinnt(\"Done..\")"
   ]
  },
  {
   "cell_type": "code",
   "execution_count": null,
   "metadata": {},
   "outputs": [],
   "source": []
  }
 ],
 "metadata": {
  "kernelspec": {
   "display_name": "Python 3",
   "language": "python",
   "name": "python3"
  },
  "language_info": {
   "codemirror_mode": {
    "name": "ipython",
    "version": 3
   },
   "file_extension": ".py",
   "mimetype": "text/x-python",
   "name": "python",
   "nbconvert_exporter": "python",
   "pygments_lexer": "ipython3",
   "version": "3.7.4"
  }
 },
 "nbformat": 4,
 "nbformat_minor": 2
}
